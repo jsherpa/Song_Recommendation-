{
 "cells": [
  {
   "cell_type": "markdown",
   "metadata": {
    "heading_collapsed": true
   },
   "source": [
    "#### Imports "
   ]
  },
  {
   "cell_type": "code",
   "execution_count": 4,
   "metadata": {
    "hidden": true
   },
   "outputs": [
    {
     "name": "stdout",
     "output_type": "stream",
     "text": [
      "Requirement already satisfied: config in /anaconda3/envs/learn-env/lib/python3.6/site-packages (0.5.0.post0)\n",
      "Note: you may need to restart the kernel to use updated packages.\n"
     ]
    }
   ],
   "source": [
    "pip install config\n"
   ]
  },
  {
   "cell_type": "code",
   "execution_count": 2,
   "metadata": {
    "hidden": true
   },
   "outputs": [],
   "source": [
    "import spotipy\n",
    "from spotipy.oauth2 import SpotifyClientCredentials\n",
    "import spotipy.oauth2 as oauth2\n",
    "import pandas as pd\n",
    "import numpy as np\n",
    "import seaborn as sns\n",
    "import matplotlib.pyplot as plt\n",
    "import time\n",
    "import json\n",
    "from tqdm import tqdm\n",
    "import spotipy.util as util\n",
    "from sklearn.preprocessing import Normalizer, MinMaxScaler\n"
   ]
  },
  {
   "cell_type": "markdown",
   "metadata": {
    "heading_collapsed": true
   },
   "source": [
    "#### API START"
   ]
  },
  {
   "cell_type": "code",
   "execution_count": 10,
   "metadata": {
    "hidden": true
   },
   "outputs": [],
   "source": [
    "import config"
   ]
  },
  {
   "cell_type": "code",
   "execution_count": 11,
   "metadata": {
    "hidden": true
   },
   "outputs": [],
   "source": [
    "\n",
    "credentials = SpotifyClientCredentials(\n",
    "        client_id=config.client_id,\n",
    "        client_secret=config.client_secret)\n",
    "sp = spotipy.Spotify(client_credentials_manager=credentials)"
   ]
  },
  {
   "cell_type": "code",
   "execution_count": 12,
   "metadata": {
    "hidden": true
   },
   "outputs": [],
   "source": [
    "genre_choice= ['EDM', 'Hip-Hop/Rap', 'K-Pop', 'Latin', 'Metal', 'Pop', 'R&B', 'Reggae', 'Rock', 'Blues', 'Classical', 'Country']"
   ]
  },
  {
   "cell_type": "markdown",
   "metadata": {
    "heading_collapsed": true
   },
   "source": [
    "#### API CALLS"
   ]
  },
  {
   "cell_type": "code",
   "execution_count": null,
   "metadata": {
    "hidden": true
   },
   "outputs": [],
   "source": []
  },
  {
   "cell_type": "code",
   "execution_count": 13,
   "metadata": {
    "hidden": true
   },
   "outputs": [],
   "source": [
    "def get_genre(genre_list ):\n",
    "\n",
    "    all_genre = {}\n",
    "    for genre in tqdm(genre_list):\n",
    "        song_id = []\n",
    "        offset = 0\n",
    "        res = sp.search(q = genre, offset=offset,type='track', limit=50)\n",
    "        while res:\n",
    "            idx = 0\n",
    "            try:\n",
    "                while idx < len(res['tracks']['items']):\n",
    "                    song_id.append(res['tracks']['items'][idx]['id'])\n",
    "                   \n",
    "                    idx +=1\n",
    "                offset += 50\n",
    "                res = sp.search(q = genre, offset=offset,type='track', limit=50)\n",
    "            except:\n",
    "                break\n",
    "        all_genre[genre] = song_id\n",
    "    return all_genre"
   ]
  },
  {
   "cell_type": "code",
   "execution_count": 14,
   "metadata": {
    "hidden": true
   },
   "outputs": [],
   "source": [
    "def get_name(genre_list):\n",
    "    all_name= {}\n",
    "    for genre in tqdm(genre_list):\n",
    "        items = []\n",
    "        offset = 0\n",
    "        res = sp.search(q = genre, offset=offset,type='track', limit=50)\n",
    "        while res:\n",
    "            idx = 0\n",
    "            try:\n",
    "                while idx < len(res['tracks']['items']):\n",
    "                    items.append(res['tracks']['items'][idx]['name'])\n",
    "                    idx +=1\n",
    "                offset += 50\n",
    "                res = sp.search(q = genre, offset=offset,type='track', limit=50)\n",
    "            except:\n",
    "                break\n",
    "        all_name[genre] = items\n",
    "    return all_name\n"
   ]
  },
  {
   "cell_type": "code",
   "execution_count": 15,
   "metadata": {
    "hidden": true
   },
   "outputs": [],
   "source": [
    "def get_popular(genre_list):\n",
    "    all_popular= {}\n",
    "    for genre in tqdm(genre_list):\n",
    "        popular = []\n",
    "        offset = 0\n",
    "        res = sp.search(q = genre, offset=offset,type='track', limit=50)\n",
    "        while res:\n",
    "            idx = 0\n",
    "            try:\n",
    "                while idx < len(res['tracks']['items']):\n",
    "                    popular.append(res['tracks']['items'][idx]['popularity'])\n",
    "                    idx +=1\n",
    "                offset += 50\n",
    "                res = sp.search(q = genre, offset=offset,type='track', limit=50)\n",
    "            except:\n",
    "                break\n",
    "        all_popular[genre] = popular\n",
    "    return all_popular"
   ]
  },
  {
   "cell_type": "code",
   "execution_count": 16,
   "metadata": {
    "hidden": true
   },
   "outputs": [
    {
     "name": "stderr",
     "output_type": "stream",
     "text": [
      "100%|██████████| 12/12 [02:10<00:00, 10.91s/it]\n"
     ]
    }
   ],
   "source": [
    "song_list = get_genre(genre_choice)"
   ]
  },
  {
   "cell_type": "code",
   "execution_count": 17,
   "metadata": {
    "hidden": true
   },
   "outputs": [],
   "source": [
    "## make the respone from the API CALL into a dataframe \n",
    "result = []            \n",
    "for genre,list_of_id in song_list.items():\n",
    "    for i in list_of_id:\n",
    "        result.append([genre,i])\n",
    "        \n",
    "genre_df = pd.DataFrame(result, columns= [\"genre\",\"id\"])"
   ]
  },
  {
   "cell_type": "code",
   "execution_count": 18,
   "metadata": {
    "hidden": true
   },
   "outputs": [
    {
     "name": "stderr",
     "output_type": "stream",
     "text": [
      "100%|██████████| 12/12 [01:59<00:00,  9.96s/it]\n"
     ]
    }
   ],
   "source": [
    "name_list = get_name(genre_choice)"
   ]
  },
  {
   "cell_type": "code",
   "execution_count": 19,
   "metadata": {
    "hidden": true
   },
   "outputs": [],
   "source": [
    "## make the respone from the API CALL into a dataframe \n",
    "result_1 = []\n",
    "for genre,list_of_name in name_list.items():\n",
    "    for i in list_of_name:\n",
    "        result_1.append([genre,i])\n",
    "        \n",
    "name_df = pd.DataFrame(result_1, columns= [\"genre\",\"name\"])"
   ]
  },
  {
   "cell_type": "code",
   "execution_count": 20,
   "metadata": {
    "hidden": true
   },
   "outputs": [
    {
     "name": "stderr",
     "output_type": "stream",
     "text": [
      "100%|██████████| 12/12 [02:00<00:00, 10.06s/it]\n"
     ]
    }
   ],
   "source": [
    "pop_1 = get_popular(genre_choice)"
   ]
  },
  {
   "cell_type": "code",
   "execution_count": 21,
   "metadata": {
    "hidden": true
   },
   "outputs": [],
   "source": [
    "result_pop = []\n",
    "for genre,list_of_pop in pop_1.items():\n",
    "    for i in list_of_pop:\n",
    "        result_pop.append([genre,i])\n",
    "        \n",
    "pop_df = pd.DataFrame(result_pop, columns= [\"genre\",\"popularity\"])"
   ]
  },
  {
   "cell_type": "code",
   "execution_count": 22,
   "metadata": {
    "hidden": true
   },
   "outputs": [],
   "source": [
    "song_name = name_df.name "
   ]
  },
  {
   "cell_type": "code",
   "execution_count": 23,
   "metadata": {
    "hidden": true
   },
   "outputs": [],
   "source": [
    "song_pop = pop_df.popularity"
   ]
  },
  {
   "cell_type": "code",
   "execution_count": 24,
   "metadata": {
    "hidden": true
   },
   "outputs": [],
   "source": [
    "genre_df['name'] = song_name"
   ]
  },
  {
   "cell_type": "code",
   "execution_count": 25,
   "metadata": {
    "hidden": true
   },
   "outputs": [],
   "source": [
    "genre_df['popularity'] = song_pop"
   ]
  },
  {
   "cell_type": "code",
   "execution_count": 26,
   "metadata": {
    "hidden": true
   },
   "outputs": [],
   "source": [
    "## make the song_ids into a numpy list so that we can make another API call for the song features.\n",
    "final_ids = np.ravel(list(song_list.values()))  "
   ]
  },
  {
   "cell_type": "code",
   "execution_count": 27,
   "metadata": {
    "hidden": true
   },
   "outputs": [
    {
     "name": "stderr",
     "output_type": "stream",
     "text": [
      " 73%|███████▎  | 350/480 [00:49<00:10, 12.00it/s]"
     ]
    },
    {
     "name": "stdout",
     "output_type": "stream",
     "text": [
      "retrying after...1secs\n"
     ]
    },
    {
     "name": "stderr",
     "output_type": "stream",
     "text": [
      "100%|██████████| 480/480 [01:04<00:00,  7.40it/s]\n"
     ]
    }
   ],
   "source": [
    "## get the song features for all the song_ids in the final_ids list \n",
    "song_feature_test = [] \n",
    "for i in tqdm(range(0,len(final_ids),50)):\n",
    "    song_feature_test.append(sp.audio_features(final_ids[i:i+50]))"
   ]
  },
  {
   "cell_type": "code",
   "execution_count": 28,
   "metadata": {
    "hidden": true
   },
   "outputs": [],
   "source": [
    "## loop through the respone and append the needed features while checking for NoNtypes\n",
    "items_1 = []\n",
    "# c = 0 \n",
    "# try:\n",
    "for i in song_feature_test:\n",
    "    for j in i:\n",
    "        \n",
    "        if j != dict:\n",
    "            items_1.append(j)\n",
    "        else:\n",
    "            items_1.append([j['danceability'],j['energy'],j['key'],j['loudness'],\\\n",
    "                    j['mode'],j['speechiness'],j['acousticness'],j['instrumentalness'],\\\n",
    "                    j['liveness'],j['valence'],j['tempo'],j['type'],j['id'],j['uri'],\\\n",
    "                    j['track_href'],j['analysis_url'],j['duration_ms'],j['time_signature']])\n"
   ]
  },
  {
   "cell_type": "code",
   "execution_count": 29,
   "metadata": {
    "hidden": true
   },
   "outputs": [],
   "source": [
    "## get rid of the NonTypes\n",
    "items_1 =[x for x in items_1 if x is not None]"
   ]
  },
  {
   "cell_type": "code",
   "execution_count": 30,
   "metadata": {
    "hidden": true
   },
   "outputs": [],
   "source": [
    "## make a dataframe with the features of the song_ids\n",
    "final_df1 = pd.DataFrame(items_1, columns= list(song_feature_test[0][0].keys()))"
   ]
  },
  {
   "cell_type": "code",
   "execution_count": 31,
   "metadata": {
    "hidden": true
   },
   "outputs": [],
   "source": [
    "## check for any duplicates \n",
    "final_df1= final_df1.drop_duplicates(subset = 'id')"
   ]
  },
  {
   "cell_type": "code",
   "execution_count": 32,
   "metadata": {
    "hidden": true
   },
   "outputs": [
    {
     "data": {
      "text/plain": [
       "True"
      ]
     },
     "execution_count": 32,
     "metadata": {},
     "output_type": "execute_result"
    }
   ],
   "source": [
    "## check for any duplicates in the genre dataframe\n",
    "genre_df.id.duplicated().any()"
   ]
  },
  {
   "cell_type": "code",
   "execution_count": 33,
   "metadata": {
    "hidden": true
   },
   "outputs": [],
   "source": [
    "genre_df= genre_df.drop_duplicates(subset = 'id')"
   ]
  },
  {
   "cell_type": "code",
   "execution_count": 34,
   "metadata": {
    "hidden": true
   },
   "outputs": [],
   "source": [
    "## get the final data frame with all the needed features\n",
    "merged_df = pd.merge(final_df1,genre_df, on= 'id')"
   ]
  },
  {
   "cell_type": "code",
   "execution_count": 35,
   "metadata": {
    "hidden": true
   },
   "outputs": [
    {
     "data": {
      "text/html": [
       "<div>\n",
       "<style scoped>\n",
       "    .dataframe tbody tr th:only-of-type {\n",
       "        vertical-align: middle;\n",
       "    }\n",
       "\n",
       "    .dataframe tbody tr th {\n",
       "        vertical-align: top;\n",
       "    }\n",
       "\n",
       "    .dataframe thead th {\n",
       "        text-align: right;\n",
       "    }\n",
       "</style>\n",
       "<table border=\"1\" class=\"dataframe\">\n",
       "  <thead>\n",
       "    <tr style=\"text-align: right;\">\n",
       "      <th></th>\n",
       "      <th>danceability</th>\n",
       "      <th>energy</th>\n",
       "      <th>key</th>\n",
       "      <th>loudness</th>\n",
       "      <th>mode</th>\n",
       "      <th>speechiness</th>\n",
       "      <th>acousticness</th>\n",
       "      <th>instrumentalness</th>\n",
       "      <th>liveness</th>\n",
       "      <th>valence</th>\n",
       "      <th>...</th>\n",
       "      <th>type</th>\n",
       "      <th>id</th>\n",
       "      <th>uri</th>\n",
       "      <th>track_href</th>\n",
       "      <th>analysis_url</th>\n",
       "      <th>duration_ms</th>\n",
       "      <th>time_signature</th>\n",
       "      <th>genre</th>\n",
       "      <th>name</th>\n",
       "      <th>popularity</th>\n",
       "    </tr>\n",
       "  </thead>\n",
       "  <tbody>\n",
       "    <tr>\n",
       "      <th>0</th>\n",
       "      <td>0.805</td>\n",
       "      <td>0.895</td>\n",
       "      <td>1</td>\n",
       "      <td>-3.527</td>\n",
       "      <td>1</td>\n",
       "      <td>0.1090</td>\n",
       "      <td>0.00159</td>\n",
       "      <td>0.124000</td>\n",
       "      <td>0.4400</td>\n",
       "      <td>0.196</td>\n",
       "      <td>...</td>\n",
       "      <td>audio_features</td>\n",
       "      <td>3MckdkpumOZiX2efM3B266</td>\n",
       "      <td>spotify:track:3MckdkpumOZiX2efM3B266</td>\n",
       "      <td>https://api.spotify.com/v1/tracks/3MckdkpumOZi...</td>\n",
       "      <td>https://api.spotify.com/v1/audio-analysis/3Mck...</td>\n",
       "      <td>148571</td>\n",
       "      <td>4</td>\n",
       "      <td>EDM</td>\n",
       "      <td>EDM O' CLOCK</td>\n",
       "      <td>48</td>\n",
       "    </tr>\n",
       "    <tr>\n",
       "      <th>1</th>\n",
       "      <td>0.630</td>\n",
       "      <td>0.839</td>\n",
       "      <td>6</td>\n",
       "      <td>-3.971</td>\n",
       "      <td>0</td>\n",
       "      <td>0.0422</td>\n",
       "      <td>0.03130</td>\n",
       "      <td>0.537000</td>\n",
       "      <td>0.1220</td>\n",
       "      <td>0.624</td>\n",
       "      <td>...</td>\n",
       "      <td>audio_features</td>\n",
       "      <td>5wlscxWc7OyrsE22xToo1N</td>\n",
       "      <td>spotify:track:5wlscxWc7OyrsE22xToo1N</td>\n",
       "      <td>https://api.spotify.com/v1/tracks/5wlscxWc7Oyr...</td>\n",
       "      <td>https://api.spotify.com/v1/audio-analysis/5wls...</td>\n",
       "      <td>142503</td>\n",
       "      <td>4</td>\n",
       "      <td>EDM</td>\n",
       "      <td>EDM Bubble</td>\n",
       "      <td>56</td>\n",
       "    </tr>\n",
       "    <tr>\n",
       "      <th>2</th>\n",
       "      <td>0.661</td>\n",
       "      <td>0.809</td>\n",
       "      <td>8</td>\n",
       "      <td>-10.563</td>\n",
       "      <td>1</td>\n",
       "      <td>0.2980</td>\n",
       "      <td>0.00038</td>\n",
       "      <td>0.244000</td>\n",
       "      <td>0.3450</td>\n",
       "      <td>0.512</td>\n",
       "      <td>...</td>\n",
       "      <td>audio_features</td>\n",
       "      <td>6eT1v3qX8tg5ePguuAZ8gM</td>\n",
       "      <td>spotify:track:6eT1v3qX8tg5ePguuAZ8gM</td>\n",
       "      <td>https://api.spotify.com/v1/tracks/6eT1v3qX8tg5...</td>\n",
       "      <td>https://api.spotify.com/v1/audio-analysis/6eT1...</td>\n",
       "      <td>198732</td>\n",
       "      <td>4</td>\n",
       "      <td>EDM</td>\n",
       "      <td>Edm Romance</td>\n",
       "      <td>36</td>\n",
       "    </tr>\n",
       "    <tr>\n",
       "      <th>3</th>\n",
       "      <td>0.607</td>\n",
       "      <td>0.631</td>\n",
       "      <td>6</td>\n",
       "      <td>-7.753</td>\n",
       "      <td>0</td>\n",
       "      <td>0.1710</td>\n",
       "      <td>0.41000</td>\n",
       "      <td>0.000000</td>\n",
       "      <td>0.1000</td>\n",
       "      <td>0.335</td>\n",
       "      <td>...</td>\n",
       "      <td>audio_features</td>\n",
       "      <td>16Fz1NtxjEaWdZZkZU8nJ3</td>\n",
       "      <td>spotify:track:16Fz1NtxjEaWdZZkZU8nJ3</td>\n",
       "      <td>https://api.spotify.com/v1/tracks/16Fz1NtxjEaW...</td>\n",
       "      <td>https://api.spotify.com/v1/audio-analysis/16Fz...</td>\n",
       "      <td>186000</td>\n",
       "      <td>4</td>\n",
       "      <td>EDM</td>\n",
       "      <td>Edmore</td>\n",
       "      <td>37</td>\n",
       "    </tr>\n",
       "    <tr>\n",
       "      <th>4</th>\n",
       "      <td>0.501</td>\n",
       "      <td>0.788</td>\n",
       "      <td>10</td>\n",
       "      <td>-3.655</td>\n",
       "      <td>0</td>\n",
       "      <td>0.1340</td>\n",
       "      <td>0.01960</td>\n",
       "      <td>0.001140</td>\n",
       "      <td>0.0983</td>\n",
       "      <td>0.377</td>\n",
       "      <td>...</td>\n",
       "      <td>audio_features</td>\n",
       "      <td>2jVx2ayLTAaRGz7pwY7j9I</td>\n",
       "      <td>spotify:track:2jVx2ayLTAaRGz7pwY7j9I</td>\n",
       "      <td>https://api.spotify.com/v1/tracks/2jVx2ayLTAaR...</td>\n",
       "      <td>https://api.spotify.com/v1/audio-analysis/2jVx...</td>\n",
       "      <td>189600</td>\n",
       "      <td>4</td>\n",
       "      <td>EDM</td>\n",
       "      <td>EDM Sucks</td>\n",
       "      <td>46</td>\n",
       "    </tr>\n",
       "    <tr>\n",
       "      <th>...</th>\n",
       "      <td>...</td>\n",
       "      <td>...</td>\n",
       "      <td>...</td>\n",
       "      <td>...</td>\n",
       "      <td>...</td>\n",
       "      <td>...</td>\n",
       "      <td>...</td>\n",
       "      <td>...</td>\n",
       "      <td>...</td>\n",
       "      <td>...</td>\n",
       "      <td>...</td>\n",
       "      <td>...</td>\n",
       "      <td>...</td>\n",
       "      <td>...</td>\n",
       "      <td>...</td>\n",
       "      <td>...</td>\n",
       "      <td>...</td>\n",
       "      <td>...</td>\n",
       "      <td>...</td>\n",
       "      <td>...</td>\n",
       "      <td>...</td>\n",
       "    </tr>\n",
       "    <tr>\n",
       "      <th>23205</th>\n",
       "      <td>0.763</td>\n",
       "      <td>0.693</td>\n",
       "      <td>1</td>\n",
       "      <td>-5.762</td>\n",
       "      <td>1</td>\n",
       "      <td>0.1440</td>\n",
       "      <td>0.16400</td>\n",
       "      <td>0.783000</td>\n",
       "      <td>0.1110</td>\n",
       "      <td>0.582</td>\n",
       "      <td>...</td>\n",
       "      <td>audio_features</td>\n",
       "      <td>67fMPkQFzcoCquj3ehdOlZ</td>\n",
       "      <td>spotify:track:67fMPkQFzcoCquj3ehdOlZ</td>\n",
       "      <td>https://api.spotify.com/v1/tracks/67fMPkQFzcoC...</td>\n",
       "      <td>https://api.spotify.com/v1/audio-analysis/67fM...</td>\n",
       "      <td>162864</td>\n",
       "      <td>4</td>\n",
       "      <td>Country</td>\n",
       "      <td>Stunning Woman</td>\n",
       "      <td>32</td>\n",
       "    </tr>\n",
       "    <tr>\n",
       "      <th>23206</th>\n",
       "      <td>0.716</td>\n",
       "      <td>0.617</td>\n",
       "      <td>1</td>\n",
       "      <td>-9.882</td>\n",
       "      <td>0</td>\n",
       "      <td>0.2660</td>\n",
       "      <td>0.03090</td>\n",
       "      <td>0.000000</td>\n",
       "      <td>0.0699</td>\n",
       "      <td>0.664</td>\n",
       "      <td>...</td>\n",
       "      <td>audio_features</td>\n",
       "      <td>0MPJIyKMHlgjnfkkIXTzHp</td>\n",
       "      <td>spotify:track:0MPJIyKMHlgjnfkkIXTzHp</td>\n",
       "      <td>https://api.spotify.com/v1/tracks/0MPJIyKMHlgj...</td>\n",
       "      <td>https://api.spotify.com/v1/audio-analysis/0MPJ...</td>\n",
       "      <td>137665</td>\n",
       "      <td>4</td>\n",
       "      <td>Country</td>\n",
       "      <td>Duties</td>\n",
       "      <td>32</td>\n",
       "    </tr>\n",
       "    <tr>\n",
       "      <th>23207</th>\n",
       "      <td>0.471</td>\n",
       "      <td>0.839</td>\n",
       "      <td>2</td>\n",
       "      <td>-6.335</td>\n",
       "      <td>1</td>\n",
       "      <td>0.0542</td>\n",
       "      <td>0.00548</td>\n",
       "      <td>0.001120</td>\n",
       "      <td>0.2040</td>\n",
       "      <td>0.279</td>\n",
       "      <td>...</td>\n",
       "      <td>audio_features</td>\n",
       "      <td>0UMHSZ9HuMNBKnqVzS3Fre</td>\n",
       "      <td>spotify:track:0UMHSZ9HuMNBKnqVzS3Fre</td>\n",
       "      <td>https://api.spotify.com/v1/tracks/0UMHSZ9HuMNB...</td>\n",
       "      <td>https://api.spotify.com/v1/audio-analysis/0UMH...</td>\n",
       "      <td>292347</td>\n",
       "      <td>4</td>\n",
       "      <td>Country</td>\n",
       "      <td>Goin' to the Country</td>\n",
       "      <td>19</td>\n",
       "    </tr>\n",
       "    <tr>\n",
       "      <th>23208</th>\n",
       "      <td>0.506</td>\n",
       "      <td>0.942</td>\n",
       "      <td>5</td>\n",
       "      <td>-4.183</td>\n",
       "      <td>1</td>\n",
       "      <td>0.0330</td>\n",
       "      <td>0.04490</td>\n",
       "      <td>0.159000</td>\n",
       "      <td>0.0876</td>\n",
       "      <td>0.931</td>\n",
       "      <td>...</td>\n",
       "      <td>audio_features</td>\n",
       "      <td>28hAbUS1ml3FK4fOyshS99</td>\n",
       "      <td>spotify:track:28hAbUS1ml3FK4fOyshS99</td>\n",
       "      <td>https://api.spotify.com/v1/tracks/28hAbUS1ml3F...</td>\n",
       "      <td>https://api.spotify.com/v1/audio-analysis/28hA...</td>\n",
       "      <td>199573</td>\n",
       "      <td>4</td>\n",
       "      <td>Country</td>\n",
       "      <td>Boogie Woogie Country Girl</td>\n",
       "      <td>30</td>\n",
       "    </tr>\n",
       "    <tr>\n",
       "      <th>23209</th>\n",
       "      <td>0.456</td>\n",
       "      <td>0.971</td>\n",
       "      <td>0</td>\n",
       "      <td>-5.159</td>\n",
       "      <td>1</td>\n",
       "      <td>0.0677</td>\n",
       "      <td>0.00743</td>\n",
       "      <td>0.000195</td>\n",
       "      <td>0.1280</td>\n",
       "      <td>0.397</td>\n",
       "      <td>...</td>\n",
       "      <td>audio_features</td>\n",
       "      <td>0rbMnScak0vglOGL70c0nM</td>\n",
       "      <td>spotify:track:0rbMnScak0vglOGL70c0nM</td>\n",
       "      <td>https://api.spotify.com/v1/tracks/0rbMnScak0vg...</td>\n",
       "      <td>https://api.spotify.com/v1/audio-analysis/0rbM...</td>\n",
       "      <td>343773</td>\n",
       "      <td>4</td>\n",
       "      <td>Country</td>\n",
       "      <td>The Skin of My Yellow Country Teeth</td>\n",
       "      <td>20</td>\n",
       "    </tr>\n",
       "  </tbody>\n",
       "</table>\n",
       "<p>23210 rows × 21 columns</p>\n",
       "</div>"
      ],
      "text/plain": [
       "       danceability  energy  key  loudness  mode  speechiness  acousticness  \\\n",
       "0             0.805   0.895    1    -3.527     1       0.1090       0.00159   \n",
       "1             0.630   0.839    6    -3.971     0       0.0422       0.03130   \n",
       "2             0.661   0.809    8   -10.563     1       0.2980       0.00038   \n",
       "3             0.607   0.631    6    -7.753     0       0.1710       0.41000   \n",
       "4             0.501   0.788   10    -3.655     0       0.1340       0.01960   \n",
       "...             ...     ...  ...       ...   ...          ...           ...   \n",
       "23205         0.763   0.693    1    -5.762     1       0.1440       0.16400   \n",
       "23206         0.716   0.617    1    -9.882     0       0.2660       0.03090   \n",
       "23207         0.471   0.839    2    -6.335     1       0.0542       0.00548   \n",
       "23208         0.506   0.942    5    -4.183     1       0.0330       0.04490   \n",
       "23209         0.456   0.971    0    -5.159     1       0.0677       0.00743   \n",
       "\n",
       "       instrumentalness  liveness  valence  ...            type  \\\n",
       "0              0.124000    0.4400    0.196  ...  audio_features   \n",
       "1              0.537000    0.1220    0.624  ...  audio_features   \n",
       "2              0.244000    0.3450    0.512  ...  audio_features   \n",
       "3              0.000000    0.1000    0.335  ...  audio_features   \n",
       "4              0.001140    0.0983    0.377  ...  audio_features   \n",
       "...                 ...       ...      ...  ...             ...   \n",
       "23205          0.783000    0.1110    0.582  ...  audio_features   \n",
       "23206          0.000000    0.0699    0.664  ...  audio_features   \n",
       "23207          0.001120    0.2040    0.279  ...  audio_features   \n",
       "23208          0.159000    0.0876    0.931  ...  audio_features   \n",
       "23209          0.000195    0.1280    0.397  ...  audio_features   \n",
       "\n",
       "                           id                                   uri  \\\n",
       "0      3MckdkpumOZiX2efM3B266  spotify:track:3MckdkpumOZiX2efM3B266   \n",
       "1      5wlscxWc7OyrsE22xToo1N  spotify:track:5wlscxWc7OyrsE22xToo1N   \n",
       "2      6eT1v3qX8tg5ePguuAZ8gM  spotify:track:6eT1v3qX8tg5ePguuAZ8gM   \n",
       "3      16Fz1NtxjEaWdZZkZU8nJ3  spotify:track:16Fz1NtxjEaWdZZkZU8nJ3   \n",
       "4      2jVx2ayLTAaRGz7pwY7j9I  spotify:track:2jVx2ayLTAaRGz7pwY7j9I   \n",
       "...                       ...                                   ...   \n",
       "23205  67fMPkQFzcoCquj3ehdOlZ  spotify:track:67fMPkQFzcoCquj3ehdOlZ   \n",
       "23206  0MPJIyKMHlgjnfkkIXTzHp  spotify:track:0MPJIyKMHlgjnfkkIXTzHp   \n",
       "23207  0UMHSZ9HuMNBKnqVzS3Fre  spotify:track:0UMHSZ9HuMNBKnqVzS3Fre   \n",
       "23208  28hAbUS1ml3FK4fOyshS99  spotify:track:28hAbUS1ml3FK4fOyshS99   \n",
       "23209  0rbMnScak0vglOGL70c0nM  spotify:track:0rbMnScak0vglOGL70c0nM   \n",
       "\n",
       "                                              track_href  \\\n",
       "0      https://api.spotify.com/v1/tracks/3MckdkpumOZi...   \n",
       "1      https://api.spotify.com/v1/tracks/5wlscxWc7Oyr...   \n",
       "2      https://api.spotify.com/v1/tracks/6eT1v3qX8tg5...   \n",
       "3      https://api.spotify.com/v1/tracks/16Fz1NtxjEaW...   \n",
       "4      https://api.spotify.com/v1/tracks/2jVx2ayLTAaR...   \n",
       "...                                                  ...   \n",
       "23205  https://api.spotify.com/v1/tracks/67fMPkQFzcoC...   \n",
       "23206  https://api.spotify.com/v1/tracks/0MPJIyKMHlgj...   \n",
       "23207  https://api.spotify.com/v1/tracks/0UMHSZ9HuMNB...   \n",
       "23208  https://api.spotify.com/v1/tracks/28hAbUS1ml3F...   \n",
       "23209  https://api.spotify.com/v1/tracks/0rbMnScak0vg...   \n",
       "\n",
       "                                            analysis_url duration_ms  \\\n",
       "0      https://api.spotify.com/v1/audio-analysis/3Mck...      148571   \n",
       "1      https://api.spotify.com/v1/audio-analysis/5wls...      142503   \n",
       "2      https://api.spotify.com/v1/audio-analysis/6eT1...      198732   \n",
       "3      https://api.spotify.com/v1/audio-analysis/16Fz...      186000   \n",
       "4      https://api.spotify.com/v1/audio-analysis/2jVx...      189600   \n",
       "...                                                  ...         ...   \n",
       "23205  https://api.spotify.com/v1/audio-analysis/67fM...      162864   \n",
       "23206  https://api.spotify.com/v1/audio-analysis/0MPJ...      137665   \n",
       "23207  https://api.spotify.com/v1/audio-analysis/0UMH...      292347   \n",
       "23208  https://api.spotify.com/v1/audio-analysis/28hA...      199573   \n",
       "23209  https://api.spotify.com/v1/audio-analysis/0rbM...      343773   \n",
       "\n",
       "       time_signature    genre                                 name popularity  \n",
       "0                   4      EDM                         EDM O' CLOCK         48  \n",
       "1                   4      EDM                           EDM Bubble         56  \n",
       "2                   4      EDM                          Edm Romance         36  \n",
       "3                   4      EDM                               Edmore         37  \n",
       "4                   4      EDM                            EDM Sucks         46  \n",
       "...               ...      ...                                  ...        ...  \n",
       "23205               4  Country                       Stunning Woman         32  \n",
       "23206               4  Country                               Duties         32  \n",
       "23207               4  Country                 Goin' to the Country         19  \n",
       "23208               4  Country           Boogie Woogie Country Girl         30  \n",
       "23209               4  Country  The Skin of My Yellow Country Teeth         20  \n",
       "\n",
       "[23210 rows x 21 columns]"
      ]
     },
     "execution_count": 35,
     "metadata": {},
     "output_type": "execute_result"
    }
   ],
   "source": [
    "merged_df "
   ]
  },
  {
   "cell_type": "markdown",
   "metadata": {},
   "source": [
    "#### EDA"
   ]
  },
  {
   "cell_type": "code",
   "execution_count": 3,
   "metadata": {},
   "outputs": [],
   "source": [
    "merged_df = pd.read_csv('working_df.csv')"
   ]
  },
  {
   "cell_type": "code",
   "execution_count": 8,
   "metadata": {},
   "outputs": [],
   "source": [
    "merged_df.drop('Unnamed: 0', axis=1, inplace= True)"
   ]
  },
  {
   "cell_type": "code",
   "execution_count": 9,
   "metadata": {
    "scrolled": true
   },
   "outputs": [
    {
     "data": {
      "text/html": [
       "<div>\n",
       "<style scoped>\n",
       "    .dataframe tbody tr th:only-of-type {\n",
       "        vertical-align: middle;\n",
       "    }\n",
       "\n",
       "    .dataframe tbody tr th {\n",
       "        vertical-align: top;\n",
       "    }\n",
       "\n",
       "    .dataframe thead th {\n",
       "        text-align: right;\n",
       "    }\n",
       "</style>\n",
       "<table border=\"1\" class=\"dataframe\">\n",
       "  <thead>\n",
       "    <tr style=\"text-align: right;\">\n",
       "      <th></th>\n",
       "      <th>danceability</th>\n",
       "      <th>energy</th>\n",
       "      <th>key</th>\n",
       "      <th>loudness</th>\n",
       "      <th>mode</th>\n",
       "      <th>speechiness</th>\n",
       "      <th>acousticness</th>\n",
       "      <th>instrumentalness</th>\n",
       "      <th>liveness</th>\n",
       "      <th>valence</th>\n",
       "      <th>...</th>\n",
       "      <th>type</th>\n",
       "      <th>id</th>\n",
       "      <th>uri</th>\n",
       "      <th>track_href</th>\n",
       "      <th>analysis_url</th>\n",
       "      <th>duration_ms</th>\n",
       "      <th>time_signature</th>\n",
       "      <th>genre</th>\n",
       "      <th>name</th>\n",
       "      <th>popularity</th>\n",
       "    </tr>\n",
       "  </thead>\n",
       "  <tbody>\n",
       "    <tr>\n",
       "      <th>0</th>\n",
       "      <td>0.805</td>\n",
       "      <td>0.895</td>\n",
       "      <td>1</td>\n",
       "      <td>-3.527</td>\n",
       "      <td>1</td>\n",
       "      <td>0.1090</td>\n",
       "      <td>0.001590</td>\n",
       "      <td>0.124000</td>\n",
       "      <td>0.4400</td>\n",
       "      <td>0.196</td>\n",
       "      <td>...</td>\n",
       "      <td>audio_features</td>\n",
       "      <td>3MckdkpumOZiX2efM3B266</td>\n",
       "      <td>spotify:track:3MckdkpumOZiX2efM3B266</td>\n",
       "      <td>https://api.spotify.com/v1/tracks/3MckdkpumOZi...</td>\n",
       "      <td>https://api.spotify.com/v1/audio-analysis/3Mck...</td>\n",
       "      <td>148571</td>\n",
       "      <td>4</td>\n",
       "      <td>EDM</td>\n",
       "      <td>EDM O' CLOCK</td>\n",
       "      <td>48</td>\n",
       "    </tr>\n",
       "    <tr>\n",
       "      <th>1</th>\n",
       "      <td>0.630</td>\n",
       "      <td>0.839</td>\n",
       "      <td>6</td>\n",
       "      <td>-3.971</td>\n",
       "      <td>0</td>\n",
       "      <td>0.0422</td>\n",
       "      <td>0.031300</td>\n",
       "      <td>0.537000</td>\n",
       "      <td>0.1220</td>\n",
       "      <td>0.624</td>\n",
       "      <td>...</td>\n",
       "      <td>audio_features</td>\n",
       "      <td>5wlscxWc7OyrsE22xToo1N</td>\n",
       "      <td>spotify:track:5wlscxWc7OyrsE22xToo1N</td>\n",
       "      <td>https://api.spotify.com/v1/tracks/5wlscxWc7Oyr...</td>\n",
       "      <td>https://api.spotify.com/v1/audio-analysis/5wls...</td>\n",
       "      <td>142503</td>\n",
       "      <td>4</td>\n",
       "      <td>EDM</td>\n",
       "      <td>EDM Bubble</td>\n",
       "      <td>56</td>\n",
       "    </tr>\n",
       "    <tr>\n",
       "      <th>2</th>\n",
       "      <td>0.607</td>\n",
       "      <td>0.631</td>\n",
       "      <td>6</td>\n",
       "      <td>-7.753</td>\n",
       "      <td>0</td>\n",
       "      <td>0.1710</td>\n",
       "      <td>0.410000</td>\n",
       "      <td>0.000000</td>\n",
       "      <td>0.1000</td>\n",
       "      <td>0.335</td>\n",
       "      <td>...</td>\n",
       "      <td>audio_features</td>\n",
       "      <td>16Fz1NtxjEaWdZZkZU8nJ3</td>\n",
       "      <td>spotify:track:16Fz1NtxjEaWdZZkZU8nJ3</td>\n",
       "      <td>https://api.spotify.com/v1/tracks/16Fz1NtxjEaW...</td>\n",
       "      <td>https://api.spotify.com/v1/audio-analysis/16Fz...</td>\n",
       "      <td>186000</td>\n",
       "      <td>4</td>\n",
       "      <td>EDM</td>\n",
       "      <td>Edmore</td>\n",
       "      <td>37</td>\n",
       "    </tr>\n",
       "    <tr>\n",
       "      <th>3</th>\n",
       "      <td>0.501</td>\n",
       "      <td>0.788</td>\n",
       "      <td>10</td>\n",
       "      <td>-3.655</td>\n",
       "      <td>0</td>\n",
       "      <td>0.1340</td>\n",
       "      <td>0.019600</td>\n",
       "      <td>0.001140</td>\n",
       "      <td>0.0983</td>\n",
       "      <td>0.377</td>\n",
       "      <td>...</td>\n",
       "      <td>audio_features</td>\n",
       "      <td>2jVx2ayLTAaRGz7pwY7j9I</td>\n",
       "      <td>spotify:track:2jVx2ayLTAaRGz7pwY7j9I</td>\n",
       "      <td>https://api.spotify.com/v1/tracks/2jVx2ayLTAaR...</td>\n",
       "      <td>https://api.spotify.com/v1/audio-analysis/2jVx...</td>\n",
       "      <td>189600</td>\n",
       "      <td>4</td>\n",
       "      <td>EDM</td>\n",
       "      <td>EDM Sucks</td>\n",
       "      <td>45</td>\n",
       "    </tr>\n",
       "    <tr>\n",
       "      <th>4</th>\n",
       "      <td>0.661</td>\n",
       "      <td>0.950</td>\n",
       "      <td>9</td>\n",
       "      <td>-3.417</td>\n",
       "      <td>1</td>\n",
       "      <td>0.1310</td>\n",
       "      <td>0.000802</td>\n",
       "      <td>0.452000</td>\n",
       "      <td>0.1160</td>\n",
       "      <td>0.301</td>\n",
       "      <td>...</td>\n",
       "      <td>audio_features</td>\n",
       "      <td>6iBzUjscIAeQ2vKV67UuZM</td>\n",
       "      <td>spotify:track:6iBzUjscIAeQ2vKV67UuZM</td>\n",
       "      <td>https://api.spotify.com/v1/tracks/6iBzUjscIAeQ...</td>\n",
       "      <td>https://api.spotify.com/v1/audio-analysis/6iBz...</td>\n",
       "      <td>263088</td>\n",
       "      <td>4</td>\n",
       "      <td>EDM</td>\n",
       "      <td>EDM Death Machine</td>\n",
       "      <td>42</td>\n",
       "    </tr>\n",
       "    <tr>\n",
       "      <th>...</th>\n",
       "      <td>...</td>\n",
       "      <td>...</td>\n",
       "      <td>...</td>\n",
       "      <td>...</td>\n",
       "      <td>...</td>\n",
       "      <td>...</td>\n",
       "      <td>...</td>\n",
       "      <td>...</td>\n",
       "      <td>...</td>\n",
       "      <td>...</td>\n",
       "      <td>...</td>\n",
       "      <td>...</td>\n",
       "      <td>...</td>\n",
       "      <td>...</td>\n",
       "      <td>...</td>\n",
       "      <td>...</td>\n",
       "      <td>...</td>\n",
       "      <td>...</td>\n",
       "      <td>...</td>\n",
       "      <td>...</td>\n",
       "      <td>...</td>\n",
       "    </tr>\n",
       "    <tr>\n",
       "      <th>22722</th>\n",
       "      <td>0.433</td>\n",
       "      <td>0.898</td>\n",
       "      <td>2</td>\n",
       "      <td>-6.846</td>\n",
       "      <td>1</td>\n",
       "      <td>0.0812</td>\n",
       "      <td>0.073100</td>\n",
       "      <td>0.000000</td>\n",
       "      <td>0.3730</td>\n",
       "      <td>0.456</td>\n",
       "      <td>...</td>\n",
       "      <td>audio_features</td>\n",
       "      <td>7f8EklpoN6clFk1IOSLGHt</td>\n",
       "      <td>spotify:track:7f8EklpoN6clFk1IOSLGHt</td>\n",
       "      <td>https://api.spotify.com/v1/tracks/7f8EklpoN6cl...</td>\n",
       "      <td>https://api.spotify.com/v1/audio-analysis/7f8E...</td>\n",
       "      <td>190453</td>\n",
       "      <td>4</td>\n",
       "      <td>Country</td>\n",
       "      <td>Going up the Country</td>\n",
       "      <td>22</td>\n",
       "    </tr>\n",
       "    <tr>\n",
       "      <th>22723</th>\n",
       "      <td>0.469</td>\n",
       "      <td>0.648</td>\n",
       "      <td>0</td>\n",
       "      <td>-6.020</td>\n",
       "      <td>1</td>\n",
       "      <td>0.0311</td>\n",
       "      <td>0.090100</td>\n",
       "      <td>0.000073</td>\n",
       "      <td>0.2040</td>\n",
       "      <td>0.761</td>\n",
       "      <td>...</td>\n",
       "      <td>audio_features</td>\n",
       "      <td>12Dtv2yJsXqSv7buGB5atX</td>\n",
       "      <td>spotify:track:12Dtv2yJsXqSv7buGB5atX</td>\n",
       "      <td>https://api.spotify.com/v1/tracks/12Dtv2yJsXqS...</td>\n",
       "      <td>https://api.spotify.com/v1/audio-analysis/12Dt...</td>\n",
       "      <td>274333</td>\n",
       "      <td>4</td>\n",
       "      <td>Country</td>\n",
       "      <td>Man Of Steel</td>\n",
       "      <td>26</td>\n",
       "    </tr>\n",
       "    <tr>\n",
       "      <th>22724</th>\n",
       "      <td>0.676</td>\n",
       "      <td>0.791</td>\n",
       "      <td>8</td>\n",
       "      <td>-5.640</td>\n",
       "      <td>1</td>\n",
       "      <td>0.0383</td>\n",
       "      <td>0.290000</td>\n",
       "      <td>0.000000</td>\n",
       "      <td>0.4870</td>\n",
       "      <td>0.944</td>\n",
       "      <td>...</td>\n",
       "      <td>audio_features</td>\n",
       "      <td>06s2xqfSDROCIhzxH5Hsu6</td>\n",
       "      <td>spotify:track:06s2xqfSDROCIhzxH5Hsu6</td>\n",
       "      <td>https://api.spotify.com/v1/tracks/06s2xqfSDROC...</td>\n",
       "      <td>https://api.spotify.com/v1/audio-analysis/06s2...</td>\n",
       "      <td>233973</td>\n",
       "      <td>4</td>\n",
       "      <td>Country</td>\n",
       "      <td>Top Of The World</td>\n",
       "      <td>26</td>\n",
       "    </tr>\n",
       "    <tr>\n",
       "      <th>22725</th>\n",
       "      <td>0.545</td>\n",
       "      <td>0.723</td>\n",
       "      <td>9</td>\n",
       "      <td>-5.189</td>\n",
       "      <td>0</td>\n",
       "      <td>0.0284</td>\n",
       "      <td>0.063300</td>\n",
       "      <td>0.000000</td>\n",
       "      <td>0.3300</td>\n",
       "      <td>0.551</td>\n",
       "      <td>...</td>\n",
       "      <td>audio_features</td>\n",
       "      <td>3JMyRsMQIeRXSWwFbO5gLn</td>\n",
       "      <td>spotify:track:3JMyRsMQIeRXSWwFbO5gLn</td>\n",
       "      <td>https://api.spotify.com/v1/tracks/3JMyRsMQIeRX...</td>\n",
       "      <td>https://api.spotify.com/v1/audio-analysis/3JMy...</td>\n",
       "      <td>228965</td>\n",
       "      <td>4</td>\n",
       "      <td>Country</td>\n",
       "      <td>Kiss You There</td>\n",
       "      <td>24</td>\n",
       "    </tr>\n",
       "    <tr>\n",
       "      <th>22726</th>\n",
       "      <td>0.442</td>\n",
       "      <td>0.560</td>\n",
       "      <td>0</td>\n",
       "      <td>-11.126</td>\n",
       "      <td>0</td>\n",
       "      <td>0.0432</td>\n",
       "      <td>0.000037</td>\n",
       "      <td>0.822000</td>\n",
       "      <td>0.1130</td>\n",
       "      <td>0.386</td>\n",
       "      <td>...</td>\n",
       "      <td>audio_features</td>\n",
       "      <td>6fUsMz9gWOxM87zYoqNBwY</td>\n",
       "      <td>spotify:track:6fUsMz9gWOxM87zYoqNBwY</td>\n",
       "      <td>https://api.spotify.com/v1/tracks/6fUsMz9gWOxM...</td>\n",
       "      <td>https://api.spotify.com/v1/audio-analysis/6fUs...</td>\n",
       "      <td>84454</td>\n",
       "      <td>4</td>\n",
       "      <td>Country</td>\n",
       "      <td>Nature Of Bank</td>\n",
       "      <td>32</td>\n",
       "    </tr>\n",
       "  </tbody>\n",
       "</table>\n",
       "<p>22727 rows × 21 columns</p>\n",
       "</div>"
      ],
      "text/plain": [
       "       danceability  energy  key  loudness  mode  speechiness  acousticness  \\\n",
       "0             0.805   0.895    1    -3.527     1       0.1090      0.001590   \n",
       "1             0.630   0.839    6    -3.971     0       0.0422      0.031300   \n",
       "2             0.607   0.631    6    -7.753     0       0.1710      0.410000   \n",
       "3             0.501   0.788   10    -3.655     0       0.1340      0.019600   \n",
       "4             0.661   0.950    9    -3.417     1       0.1310      0.000802   \n",
       "...             ...     ...  ...       ...   ...          ...           ...   \n",
       "22722         0.433   0.898    2    -6.846     1       0.0812      0.073100   \n",
       "22723         0.469   0.648    0    -6.020     1       0.0311      0.090100   \n",
       "22724         0.676   0.791    8    -5.640     1       0.0383      0.290000   \n",
       "22725         0.545   0.723    9    -5.189     0       0.0284      0.063300   \n",
       "22726         0.442   0.560    0   -11.126     0       0.0432      0.000037   \n",
       "\n",
       "       instrumentalness  liveness  valence  ...            type  \\\n",
       "0              0.124000    0.4400    0.196  ...  audio_features   \n",
       "1              0.537000    0.1220    0.624  ...  audio_features   \n",
       "2              0.000000    0.1000    0.335  ...  audio_features   \n",
       "3              0.001140    0.0983    0.377  ...  audio_features   \n",
       "4              0.452000    0.1160    0.301  ...  audio_features   \n",
       "...                 ...       ...      ...  ...             ...   \n",
       "22722          0.000000    0.3730    0.456  ...  audio_features   \n",
       "22723          0.000073    0.2040    0.761  ...  audio_features   \n",
       "22724          0.000000    0.4870    0.944  ...  audio_features   \n",
       "22725          0.000000    0.3300    0.551  ...  audio_features   \n",
       "22726          0.822000    0.1130    0.386  ...  audio_features   \n",
       "\n",
       "                           id                                   uri  \\\n",
       "0      3MckdkpumOZiX2efM3B266  spotify:track:3MckdkpumOZiX2efM3B266   \n",
       "1      5wlscxWc7OyrsE22xToo1N  spotify:track:5wlscxWc7OyrsE22xToo1N   \n",
       "2      16Fz1NtxjEaWdZZkZU8nJ3  spotify:track:16Fz1NtxjEaWdZZkZU8nJ3   \n",
       "3      2jVx2ayLTAaRGz7pwY7j9I  spotify:track:2jVx2ayLTAaRGz7pwY7j9I   \n",
       "4      6iBzUjscIAeQ2vKV67UuZM  spotify:track:6iBzUjscIAeQ2vKV67UuZM   \n",
       "...                       ...                                   ...   \n",
       "22722  7f8EklpoN6clFk1IOSLGHt  spotify:track:7f8EklpoN6clFk1IOSLGHt   \n",
       "22723  12Dtv2yJsXqSv7buGB5atX  spotify:track:12Dtv2yJsXqSv7buGB5atX   \n",
       "22724  06s2xqfSDROCIhzxH5Hsu6  spotify:track:06s2xqfSDROCIhzxH5Hsu6   \n",
       "22725  3JMyRsMQIeRXSWwFbO5gLn  spotify:track:3JMyRsMQIeRXSWwFbO5gLn   \n",
       "22726  6fUsMz9gWOxM87zYoqNBwY  spotify:track:6fUsMz9gWOxM87zYoqNBwY   \n",
       "\n",
       "                                              track_href  \\\n",
       "0      https://api.spotify.com/v1/tracks/3MckdkpumOZi...   \n",
       "1      https://api.spotify.com/v1/tracks/5wlscxWc7Oyr...   \n",
       "2      https://api.spotify.com/v1/tracks/16Fz1NtxjEaW...   \n",
       "3      https://api.spotify.com/v1/tracks/2jVx2ayLTAaR...   \n",
       "4      https://api.spotify.com/v1/tracks/6iBzUjscIAeQ...   \n",
       "...                                                  ...   \n",
       "22722  https://api.spotify.com/v1/tracks/7f8EklpoN6cl...   \n",
       "22723  https://api.spotify.com/v1/tracks/12Dtv2yJsXqS...   \n",
       "22724  https://api.spotify.com/v1/tracks/06s2xqfSDROC...   \n",
       "22725  https://api.spotify.com/v1/tracks/3JMyRsMQIeRX...   \n",
       "22726  https://api.spotify.com/v1/tracks/6fUsMz9gWOxM...   \n",
       "\n",
       "                                            analysis_url duration_ms  \\\n",
       "0      https://api.spotify.com/v1/audio-analysis/3Mck...      148571   \n",
       "1      https://api.spotify.com/v1/audio-analysis/5wls...      142503   \n",
       "2      https://api.spotify.com/v1/audio-analysis/16Fz...      186000   \n",
       "3      https://api.spotify.com/v1/audio-analysis/2jVx...      189600   \n",
       "4      https://api.spotify.com/v1/audio-analysis/6iBz...      263088   \n",
       "...                                                  ...         ...   \n",
       "22722  https://api.spotify.com/v1/audio-analysis/7f8E...      190453   \n",
       "22723  https://api.spotify.com/v1/audio-analysis/12Dt...      274333   \n",
       "22724  https://api.spotify.com/v1/audio-analysis/06s2...      233973   \n",
       "22725  https://api.spotify.com/v1/audio-analysis/3JMy...      228965   \n",
       "22726  https://api.spotify.com/v1/audio-analysis/6fUs...       84454   \n",
       "\n",
       "       time_signature    genre                  name popularity  \n",
       "0                   4      EDM          EDM O' CLOCK         48  \n",
       "1                   4      EDM            EDM Bubble         56  \n",
       "2                   4      EDM                Edmore         37  \n",
       "3                   4      EDM             EDM Sucks         45  \n",
       "4                   4      EDM     EDM Death Machine         42  \n",
       "...               ...      ...                   ...        ...  \n",
       "22722               4  Country  Going up the Country         22  \n",
       "22723               4  Country          Man Of Steel         26  \n",
       "22724               4  Country      Top Of The World         26  \n",
       "22725               4  Country        Kiss You There         24  \n",
       "22726               4  Country        Nature Of Bank         32  \n",
       "\n",
       "[22727 rows x 21 columns]"
      ]
     },
     "execution_count": 9,
     "metadata": {},
     "output_type": "execute_result"
    }
   ],
   "source": [
    "merged_df"
   ]
  },
  {
   "cell_type": "code",
   "execution_count": null,
   "metadata": {},
   "outputs": [],
   "source": []
  },
  {
   "cell_type": "markdown",
   "metadata": {
    "heading_collapsed": true
   },
   "source": [
    "##### Outliers"
   ]
  },
  {
   "cell_type": "code",
   "execution_count": 10,
   "metadata": {
    "hidden": true
   },
   "outputs": [
    {
     "data": {
      "text/plain": [
       "Text(0.5, 1, 'Popularity vs. Energy')"
      ]
     },
     "execution_count": 10,
     "metadata": {},
     "output_type": "execute_result"
    },
    {
     "data": {
      "image/png": "[encoded data removed]",
      "text/plain": [
       "<Figure size 674.625x576 with 1 Axes>"
      ]
     },
     "metadata": {
      "needs_background": "light"
     },
     "output_type": "display_data"
    }
   ],
   "source": [
    "\n",
    "sns.lmplot(data=merged_df, x=\"acousticness\", y=\"energy\", hue=\"genre\", palette=\"tab20\",\n",
    "           fit_reg=False, legend=True, height=8, \n",
    "          scatter_kws={'alpha':0.25, 's':12})\n",
    "plt.xlim(0,1.0)\n",
    "plt.ylim(0,1.0)\n",
    "plt.title(\"Popularity vs. Energy\")"
   ]
  },
  {
   "cell_type": "code",
   "execution_count": null,
   "metadata": {
    "hidden": true
   },
   "outputs": [],
   "source": []
  }
 ],
 "metadata": {
  "kernelspec": {
   "display_name": "Python [conda env:learn-env] *",
   "language": "python",
   "name": "conda-env-learn-env-py"
  },
  "language_info": {
   "codemirror_mode": {
    "name": "ipython",
    "version": 3
   },
   "file_extension": ".py",
   "mimetype": "text/x-python",
   "name": "python",
   "nbconvert_exporter": "python",
   "pygments_lexer": "ipython3",
   "version": "3.6.9"
  },
  "toc": {
   "base_numbering": 1,
   "nav_menu": {},
   "number_sections": true,
   "sideBar": true,
   "skip_h1_title": false,
   "title_cell": "Table of Contents",
   "title_sidebar": "Contents",
   "toc_cell": false,
   "toc_position": {},
   "toc_section_display": true,
   "toc_window_display": true
  }
 },
 "nbformat": 4,
 "nbformat_minor": 2
}
